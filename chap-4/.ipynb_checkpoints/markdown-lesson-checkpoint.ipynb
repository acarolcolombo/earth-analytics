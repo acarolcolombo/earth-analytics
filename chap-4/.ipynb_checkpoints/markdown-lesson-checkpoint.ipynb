{
 "cells": [
  {
   "cell_type": "markdown",
   "metadata": {},
   "source": [
    "# Intro to Earth Analytics - Chapter Four\n",
    "\n",
    "* **Author:** Ana Caroline Colombo\n",
    "* **Date:** 07/05/20"
   ]
  },
  {
   "cell_type": "markdown",
   "metadata": {},
   "source": [
    "### A list of my top 3 favorite foods:\n",
    "\n",
    "* *chocolate*\n",
    "* <a href=\"https://www.bbc.co.uk/food/pizza\" target=\"_blank\">pizza</a>\n",
    "* ![pork belly](https://i.ytimg.com/vi/GOWFlp0M7QM/maxresdefault.jpg)"
   ]
  }
 ],
 "metadata": {
  "kernelspec": {
   "display_name": "Python 3",
   "language": "python",
   "name": "python3"
  },
  "language_info": {
   "codemirror_mode": {
    "name": "ipython",
    "version": 3
   },
   "file_extension": ".py",
   "mimetype": "text/x-python",
   "name": "python",
   "nbconvert_exporter": "python",
   "pygments_lexer": "ipython3",
   "version": "3.7.6"
  }
 },
 "nbformat": 4,
 "nbformat_minor": 4
}
