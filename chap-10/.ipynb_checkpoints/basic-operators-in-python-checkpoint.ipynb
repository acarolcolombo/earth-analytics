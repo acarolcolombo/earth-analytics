{
 "cells": [
  {
   "cell_type": "markdown",
   "metadata": {},
   "source": [
    "Month\tPrecipitation (inches)\n",
    "Jan\t0.70\n",
    "Feb\t0.75\n",
    "Mar\t1.85\n",
    "Apr\t2.93\n",
    "May\t3.05\n",
    "June\t2.02\n",
    "July\t1.93\n",
    "Aug\t1.62\n",
    "Sept\t1.84\n",
    "Oct\t1.31\n",
    "Nov\t1.39\n",
    "Dec\t0.84\n",
    "\n",
    "Test your Python skills to:\n",
    "\n",
    "    1. Create new variables for monthly average precipitation values (inches) for Boulder, CO for January through December.\n",
    "\n",
    "    2. Use the appropriate arithmetic operator to convert the monthly variables for jan to dec from inches to millimeters (1 inch = 25.4 mm).\n",
    "\n",
    "    3. Create a list that contains the converted monthly average precipitation values in millimeters. Print your list (hint: print(list_name)).\n",
    "\n",
    "    4. Create a list that contains the month names from the table above."
   ]
  },
  {
   "cell_type": "code",
   "execution_count": 47,
   "metadata": {},
   "outputs": [],
   "source": [
    "jan = 0.70\n",
    "feb = 0.75\n",
    "mar = 1.85\n",
    "apr = 2.93\n",
    "may = 3.05\n",
    "jun = 2.02\n",
    "jul = 1.93\n",
    "aug = 1.62\n",
    "sep = 1.84\n",
    "oct = 1.31\n",
    "nov = 1.39\n",
    "dec = 0.84"
   ]
  },
  {
   "cell_type": "code",
   "execution_count": 48,
   "metadata": {},
   "outputs": [],
   "source": [
    "jan *= 25.4\n",
    "feb *= 25.4\n",
    "mar *= 25.4\n",
    "apr *= 25.4\n",
    "may *= 25.4\n",
    "jun *= 25.4\n",
    "jul *= 25.4\n",
    "aug *= 25.4\n",
    "sep *= 25.4\n",
    "oct *= 25.4\n",
    "nov *= 25.4\n",
    "dec *= 25.4"
   ]
  },
  {
   "cell_type": "code",
   "execution_count": 49,
   "metadata": {},
   "outputs": [
    {
     "name": "stdout",
     "output_type": "stream",
     "text": [
      "17.779999999999998 19.049999999999997 46.99 74.422 77.46999999999998 51.308 49.022 41.148 46.736 33.274 35.306 21.336\n"
     ]
    }
   ],
   "source": [
    "print(jan, feb, mar, apr, may, jun, jul, aug, sep, oct, nov, dec)"
   ]
  },
  {
   "cell_type": "code",
   "execution_count": 50,
   "metadata": {},
   "outputs": [],
   "source": [
    "precip_mm = [17.779999999999998, 19.049999999999997, 46.99, 74.422, \n",
    "             77.46999999999998, 51.308, 49.022, 41.148, 46.736, 33.274, 35.306, 21.336]"
   ]
  },
  {
   "cell_type": "code",
   "execution_count": 51,
   "metadata": {},
   "outputs": [
    {
     "name": "stdout",
     "output_type": "stream",
     "text": [
      "[17.779999999999998, 19.049999999999997, 46.99, 74.422, 77.46999999999998, 51.308, 49.022, 41.148, 46.736, 33.274, 35.306, 21.336]\n"
     ]
    }
   ],
   "source": [
    "print(precip_mm)"
   ]
  },
  {
   "cell_type": "code",
   "execution_count": 52,
   "metadata": {},
   "outputs": [],
   "source": [
    "precip_mm_month = [\"jan\", \"feb\", \"mar\", \"apr\", \"may\", \"jun\", \"jul\", \"aug\", \"sep\", \"oct\", \"nov\", \"dec\"]"
   ]
  },
  {
   "cell_type": "markdown",
   "metadata": {},
   "source": [
    "# Import necessary plot package\n",
    "import matplotlib.pyplot as plt\n",
    "\n",
    "# Plot monthly precipitation values\n",
    "fig, ax = plt.subplots(figsize=(10, 10))\n",
    "ax.bar(listname_months, listname_precip, color=\"blue\")\n",
    "ax.set(title=\"Add plot title here.\",\n",
    "       xlabel=\"Add x axis label here.\", ylabel=\"Add y axis label here.\");\n",
    "\n",
    "Customize this plot by:\n",
    "\n",
    "    Replacing listname_months and listname_precip with the names of the lists that you created.\n",
    "    Change the color of the plot to aqua.\n",
    "    Update the text for the titles and axes labels.\n",
    "    Modifying the values in figsize=(10, 10) to change the size of your plot.\n",
    "\n",
    "For your titles and labels, be sure to think about the following pieces of information that could help someone easily interpret the plot:\n",
    "\n",
    "    geographic coverage or extent of data.\n",
    "    duration or temporal extent of the data.\n",
    "    what was actually measured and/or represented by the data.\n",
    "    units of measurement."
   ]
  },
  {
   "cell_type": "code",
   "execution_count": 53,
   "metadata": {},
   "outputs": [],
   "source": [
    "import matplotlib.pyplot as plt"
   ]
  },
  {
   "cell_type": "code",
   "execution_count": 55,
   "metadata": {},
   "outputs": [
    {
     "data": {
      "image/png": "[encoded data removed]",
      "text/plain": [
       "<Figure size 864x864 with 1 Axes>"
      ]
     },
     "metadata": {
      "needs_background": "light"
     },
     "output_type": "display_data"
    }
   ],
   "source": [
    "fig, ax = plt.subplots(figsize=(12, 12))\n",
    "ax.bar(precip_mm_month, precip_mm, color=\"aqua\")\n",
    "ax.set(title=\"Monthly precipitation for Boulder, CO\",\n",
    "       xlabel=\"months\", ylabel=\"mm\");"
   ]
  }
 ],
 "metadata": {
  "kernelspec": {
   "display_name": "Python 3",
   "language": "python",
   "name": "python3"
  },
  "language_info": {
   "codemirror_mode": {
    "name": "ipython",
    "version": 3
   },
   "file_extension": ".py",
   "mimetype": "text/x-python",
   "name": "python",
   "nbconvert_exporter": "python",
   "pygments_lexer": "ipython3",
   "version": "3.7.6"
  }
 },
 "nbformat": 4,
 "nbformat_minor": 4
}
